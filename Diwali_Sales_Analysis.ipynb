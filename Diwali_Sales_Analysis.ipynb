{
 "cells": [
  {
   "cell_type": "code",
   "execution_count": null,
   "id": "1835e881-0c3e-4097-a1d8-e4a1bbdf944e",
   "metadata": {},
   "outputs": [],
   "source": [
    "import pandas as pd\n",
    "import numpy as np\n",
    "import matplotlib.pyplot as plt # for visualizing data\n",
    "%matplotlib inline\n",
    "import seaborn as sns\n",
    "\n"
   ]
  },
  {
   "cell_type": "code",
   "execution_count": null,
   "id": "f8907815-0fec-4c29-8603-c8429ab16875",
   "metadata": {},
   "outputs": [],
   "source": [
    "df = pd.read_csv(\"C:/Users/sowmy/Downloads/Diwali Sales Data.csv\", encoding='unicode_escape')\n"
   ]
  },
  {
   "cell_type": "code",
   "execution_count": null,
   "id": "9643ff3e-f22c-4725-8f5b-6a7fad4d0b96",
   "metadata": {},
   "outputs": [],
   "source": [
    "df.shape\n"
   ]
  },
  {
   "cell_type": "code",
   "execution_count": null,
   "id": "f630e7a1-6084-4529-a24d-d84d23f6aecc",
   "metadata": {
    "scrolled": true
   },
   "outputs": [],
   "source": [
    "df.head(10)"
   ]
  },
  {
   "cell_type": "code",
   "execution_count": null,
   "id": "bcdb51c3-165a-43db-8169-315e7f7f8a10",
   "metadata": {},
   "outputs": [],
   "source": [
    "df.info()"
   ]
  },
  {
   "cell_type": "code",
   "execution_count": null,
   "id": "57a57bfc-f9d7-4b13-a12a-1999302ae7bf",
   "metadata": {},
   "outputs": [],
   "source": [
    "#drop null values\n",
    "df.drop(['Status', 'unnamed1'], axis = 1, inplace= True)"
   ]
  },
  {
   "cell_type": "code",
   "execution_count": null,
   "id": "aeb91116-32e2-49c4-be93-6eea5c5e5ad5",
   "metadata": {},
   "outputs": [],
   "source": [
    "pd.isnull(df)"
   ]
  },
  {
   "cell_type": "code",
   "execution_count": null,
   "id": "f81ca65e-b4f6-4a18-bfc8-6f6b38ac3b9a",
   "metadata": {},
   "outputs": [],
   "source": [
    "pd.isnull(df).sum()"
   ]
  },
  {
   "cell_type": "code",
   "execution_count": null,
   "id": "8138b0f2-171a-4b0a-b254-f37ecd2d786e",
   "metadata": {},
   "outputs": [],
   "source": [
    "df.shape"
   ]
  },
  {
   "cell_type": "code",
   "execution_count": null,
   "id": "665ab6bf-42c7-4ee3-b256-1ac8bda6d90a",
   "metadata": {},
   "outputs": [],
   "source": [
    "#drop null values\n",
    "df.dropna(inplace = True)"
   ]
  },
  {
   "cell_type": "code",
   "execution_count": null,
   "id": "17980610-00ab-4a22-8ead-2f8612bf9618",
   "metadata": {},
   "outputs": [],
   "source": [
    "df.shape"
   ]
  },
  {
   "cell_type": "code",
   "execution_count": null,
   "id": "7fa892a5-0bad-4b77-ae4c-12630a10ed00",
   "metadata": {},
   "outputs": [],
   "source": [
    "# change data type\n",
    "df['Amount'] = df['Amount'].astype('int')"
   ]
  },
  {
   "cell_type": "code",
   "execution_count": null,
   "id": "43b93d1d-8fe0-4766-83a7-b11d7ad5bcde",
   "metadata": {},
   "outputs": [],
   "source": [
    "df['Amount'].dtype"
   ]
  },
  {
   "cell_type": "code",
   "execution_count": null,
   "id": "32dd9b74-2a37-48be-ba00-e04d7d1bfa32",
   "metadata": {},
   "outputs": [],
   "source": [
    "df.columns"
   ]
  },
  {
   "cell_type": "code",
   "execution_count": null,
   "id": "d481cf3f-d948-425e-87fa-a7066f1bd13e",
   "metadata": {},
   "outputs": [],
   "source": [
    "# description of the data\n",
    "df.describe()"
   ]
  },
  {
   "cell_type": "code",
   "execution_count": null,
   "id": "f349b191-97c4-4844-8631-1783e380b2a1",
   "metadata": {},
   "outputs": [],
   "source": [
    "# use describe() for specific columns\n",
    "df[['Age', 'Orders', 'Amount']].describe()"
   ]
  },
  {
   "cell_type": "markdown",
   "id": "8b7d5fe5-105b-49fb-9ab2-0f3c2d015635",
   "metadata": {},
   "source": [
    "Exploratory Data Analysis\n"
   ]
  },
  {
   "cell_type": "markdown",
   "id": "f240a90d-581c-49bc-94c0-4bc166d25e29",
   "metadata": {},
   "source": [
    "Gender"
   ]
  },
  {
   "cell_type": "code",
   "execution_count": null,
   "id": "468edac0-c2b1-4298-88af-d1624e19fd20",
   "metadata": {},
   "outputs": [],
   "source": [
    "df.columns"
   ]
  },
  {
   "cell_type": "code",
   "execution_count": null,
   "id": "3c4b5a83-8431-4c16-a2ef-c43bf1eb5b72",
   "metadata": {},
   "outputs": [],
   "source": [
    "sns.countplot(x = 'Gender', data = df)"
   ]
  },
  {
   "cell_type": "code",
   "execution_count": null,
   "id": "ed88449c-b4ba-4c17-9020-b4a8591e1b75",
   "metadata": {},
   "outputs": [],
   "source": [
    "ax = sns.countplot(x = 'Gender', data = df)\n",
    "\n",
    "for bars in ax.containers:\n",
    "    ax.bar_label(bars)"
   ]
  },
  {
   "cell_type": "code",
   "execution_count": null,
   "id": "3ba247e6-8078-4a1c-a61a-af27d53a9fb4",
   "metadata": {},
   "outputs": [],
   "source": [
    "sales_gen = df.groupby(['Gender'], as_index = False)['Amount'].sum().sort_values(by = 'Amount', ascending = False)\n",
    "sns.barplot(x= 'Gender',y= 'Amount', data = sales_gen)"
   ]
  },
  {
   "cell_type": "markdown",
   "id": "708fb10c-c4fc-4e79-a8f7-950608dbce51",
   "metadata": {},
   "source": [
    "From above graphs we can see that most of the buyers are females and even the purchasing power of females are greater than males."
   ]
  },
  {
   "cell_type": "markdown",
   "id": "9f855551-84c3-44b9-a304-60d9a5b315f5",
   "metadata": {},
   "source": [
    "Age"
   ]
  },
  {
   "cell_type": "code",
   "execution_count": null,
   "id": "4810c80d-6d6c-47ae-b5ea-5ef681e8b526",
   "metadata": {},
   "outputs": [],
   "source": [
    "ax = sns.countplot(x= 'Age Group', hue = 'Gender', data = df)"
   ]
  },
  {
   "cell_type": "code",
   "execution_count": null,
   "id": "fa9a4f51-5041-4e68-8026-8065d69cc015",
   "metadata": {},
   "outputs": [],
   "source": [
    "ax = sns.countplot(x= 'Age Group', hue = 'Gender', data = df)\n",
    "\n",
    "for bars in ax.containers:\n",
    "    ax.bar_label(bars)"
   ]
  },
  {
   "cell_type": "code",
   "execution_count": null,
   "id": "8b0343ef-1ce9-484a-a180-068731dc4ff8",
   "metadata": {},
   "outputs": [],
   "source": [
    "#Total Amount vs Age Group\n",
    "sales_age = df.groupby(['Age Group'],as_index = False)['Amount'].sum().sort_values(by ='Amount', ascending = False)\n",
    "\n",
    "sns.barplot(x = 'Age Group', y= 'Amount', data = sales_age)"
   ]
  },
  {
   "cell_type": "raw",
   "id": "65d71968-56d1-46cc-9428-91af6ffdf3d7",
   "metadata": {},
   "source": [
    "From above graph we can say that most of the buyers are from 26-35 age group and are females."
   ]
  },
  {
   "cell_type": "markdown",
   "id": "304b0acc-aed1-44cc-b5ea-979846fd403a",
   "metadata": {},
   "source": [
    "State"
   ]
  },
  {
   "cell_type": "code",
   "execution_count": null,
   "id": "32be1386-550f-4f21-8125-7fb819da2459",
   "metadata": {},
   "outputs": [],
   "source": [
    "df.columns"
   ]
  },
  {
   "cell_type": "code",
   "execution_count": null,
   "id": "77fcc445-3392-405a-87f9-06a32ef316db",
   "metadata": {},
   "outputs": [],
   "source": [
    "# total number of orders from top 10 states\n",
    "sales_state = df.groupby(['State'],as_index = False)['Orders'].sum().sort_values(by ='Orders', ascending = False).head(10)\n",
    "\n",
    "sns.set(rc = {'figure.figsize':(15,5)})\n",
    "sns.barplot(x = 'State', y= 'Orders', data = sales_state)"
   ]
  },
  {
   "cell_type": "code",
   "execution_count": null,
   "id": "7a2a8ada-bbe8-4ae3-a560-daf7f1dcdd7b",
   "metadata": {},
   "outputs": [],
   "source": [
    "# total amount/sales from top 10 states\n",
    "sales_state = df.groupby(['State'],as_index = False)['Amount'].sum().sort_values(by ='Amount', ascending = False).head(10)\n",
    "\n",
    "sns.set(rc = {'figure.figsize':(15,5)})\n",
    "sns.barplot(x = 'State', y= 'Amount', data = sales_state)"
   ]
  },
  {
   "cell_type": "markdown",
   "id": "291adfec-fc20-47df-bbed-2aa2dac7148e",
   "metadata": {},
   "source": [
    "Most of the sales are from Uttar Pradesh, Maharashtra, Karnataka"
   ]
  },
  {
   "cell_type": "markdown",
   "id": "50b772aa-1762-4d64-bf8f-33b1d1f1fa71",
   "metadata": {},
   "source": [
    "Marital Status"
   ]
  },
  {
   "cell_type": "code",
   "execution_count": null,
   "id": "8b657d4e-610a-4b6a-949a-4dddd960ea07",
   "metadata": {},
   "outputs": [],
   "source": [
    "ax = sns.countplot(data = df, x = 'Marital_Status')\n",
    "\n",
    "sns.set(rc={'figure.figsize' : (7,5)})\n",
    "for bars in ax.containers:\n",
    "    ax.bar_label(bars)"
   ]
  },
  {
   "cell_type": "code",
   "execution_count": null,
   "id": "fb1b5444-e3da-4f66-bfb0-aa58467f1324",
   "metadata": {},
   "outputs": [],
   "source": [
    "sales_maritalstatus = df.groupby(['Marital_Status', 'Gender'],as_index = False)['Amount'].sum().sort_values(by ='Amount', ascending = False)\n",
    "\n",
    "sns.set(rc = {'figure.figsize':(6,5)})\n",
    "sns.barplot(x = 'Marital_Status', y= 'Amount', hue = 'Gender', data = sales_maritalstatus)"
   ]
  },
  {
   "cell_type": "markdown",
   "id": "79783921-3b54-404e-82fa-0fca1030f5f3",
   "metadata": {},
   "source": [
    "Married women have high purchasing power"
   ]
  },
  {
   "cell_type": "markdown",
   "id": "b22c7a1b-a15f-4a19-bff6-a05a867a4268",
   "metadata": {},
   "source": [
    "Occupation"
   ]
  },
  {
   "cell_type": "code",
   "execution_count": null,
   "id": "a793bcf1-3444-42ff-b9ed-2d8017878842",
   "metadata": {},
   "outputs": [],
   "source": [
    "sns.set(rc={'figure.figsize':(20,5)})\n",
    "ax = sns.countplot(x = 'Occupation', data = df)\n",
    "\n",
    "for bars in ax.containers:\n",
    "    ax.bar_label(bars)"
   ]
  },
  {
   "cell_type": "code",
   "execution_count": null,
   "id": "62c7e44c-7dc7-462c-a5d6-037802dbf53c",
   "metadata": {},
   "outputs": [],
   "source": [
    "sales_occupation = df.groupby(['Occupation'],as_index = False)['Amount'].sum().sort_values(by ='Amount', ascending = False)\n",
    "\n",
    "sns.set(rc = {'figure.figsize':(20,5)})\n",
    "sns.barplot(x = 'Occupation', y= 'Amount', data = sales_occupation)"
   ]
  },
  {
   "cell_type": "markdown",
   "id": "f2ad497b-bd7c-441f-9f92-1c50864d20dd",
   "metadata": {},
   "source": [
    "Most of the buyers are from IT Sector, Healthcare and Aviation"
   ]
  },
  {
   "cell_type": "markdown",
   "id": "eab5b49d-b090-4bc2-b381-abdfcfafff92",
   "metadata": {},
   "source": [
    "Product Category"
   ]
  },
  {
   "cell_type": "code",
   "execution_count": null,
   "id": "ef7e6cfb-0e41-45ea-9edd-a446cc713b9a",
   "metadata": {},
   "outputs": [],
   "source": [
    "sns.set(rc={'figure.figsize':(20,5)})\n",
    "ax = sns.countplot(x = 'Product_Category', data = df)\n",
    "\n",
    "for bars in ax.containers:\n",
    "    ax.bar_label(bars)"
   ]
  },
  {
   "cell_type": "code",
   "execution_count": null,
   "id": "255b4090-09a9-481f-80ee-b2aaea1f9156",
   "metadata": {},
   "outputs": [],
   "source": [
    "sales_productcategory = df.groupby(['Product_Category'],as_index = False)['Amount'].sum().sort_values(by ='Amount', ascending = False).head(6)\n",
    "\n",
    "sns.set(rc = {'figure.figsize':(20,5)})\n",
    "sns.barplot(x = 'Product_Category', y= 'Amount', data = sales_productcategory)"
   ]
  },
  {
   "cell_type": "markdown",
   "id": "b749dc05-b8a2-4897-bc5c-26e791bce823",
   "metadata": {},
   "source": [
    "Most of the sold products are from Food, Clothing & Apparel, Electronics & Gadgets category"
   ]
  },
  {
   "cell_type": "code",
   "execution_count": null,
   "id": "6077983f-3862-4092-b733-bafa6f8a41f0",
   "metadata": {},
   "outputs": [],
   "source": [
    "df.columns"
   ]
  },
  {
   "cell_type": "markdown",
   "id": "5f75219f-ebb8-4f93-97dc-ac7b6cf7311b",
   "metadata": {},
   "source": [
    "Product ID"
   ]
  },
  {
   "cell_type": "code",
   "execution_count": null,
   "id": "7c6cfdbf-8547-4791-b2ae-604155440fee",
   "metadata": {
    "scrolled": true
   },
   "outputs": [],
   "source": [
    "sales_productid = df.groupby(['Product_ID'],as_index = False)['Orders'].sum().sort_values(by ='Orders', ascending = False).head(6)\n",
    "\n",
    "sns.set(rc = {'figure.figsize':(20,5)})\n",
    "sns.barplot(x = 'Product_ID', y= 'Orders', data = sales_productid)"
   ]
  },
  {
   "cell_type": "markdown",
   "id": "fe8c84d8-c5dc-442f-acba-8d259b5a562b",
   "metadata": {},
   "source": [
    "Conclusion: Married women age group 26 - 35 years from UP, Maharastra and Karnataka working in IT, Healthcare and Aviation are more likely to purchase products from Food, Clothing and Electronics category."
   ]
  }
 ],
 "metadata": {
  "kernelspec": {
   "display_name": "Python 3 (ipykernel)",
   "language": "python",
   "name": "python3"
  },
  "language_info": {
   "codemirror_mode": {
    "name": "ipython",
    "version": 3
   },
   "file_extension": ".py",
   "mimetype": "text/x-python",
   "name": "python",
   "nbconvert_exporter": "python",
   "pygments_lexer": "ipython3",
   "version": "3.11.7"
  }
 },
 "nbformat": 4,
 "nbformat_minor": 5
}
